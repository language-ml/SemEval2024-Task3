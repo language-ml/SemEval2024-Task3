{
 "cells": [
  {
   "cell_type": "code",
   "execution_count": 1,
   "id": "ubfLxpbwydFc",
   "metadata": {
    "colab": {
     "base_uri": "https://localhost:8080/"
    },
    "id": "ubfLxpbwydFc",
    "outputId": "61e9d874-2982-458c-eef0-8a707cb96556"
   },
   "outputs": [],
   "source": [
    "# from google.colab import drive\n",
    "# drive.mount('/content/drive')"
   ]
  },
  {
   "cell_type": "code",
   "execution_count": 1,
   "id": "GpBmdmy0yc3l",
   "metadata": {
    "id": "GpBmdmy0yc3l"
   },
   "outputs": [],
   "source": [
    "import json\n",
    "\n",
    "with open(\"Subtask_1_train.json\") as f:\n",
    "    data = json.load(f)"
   ]
  },
  {
   "cell_type": "markdown",
   "id": "Q0fygNWsy0Ga",
   "metadata": {
    "id": "Q0fygNWsy0Ga"
   },
   "source": [
    "<hr>"
   ]
  },
  {
   "cell_type": "code",
   "execution_count": 2,
   "id": "9s2Hw7M__mrE",
   "metadata": {
    "id": "9s2Hw7M__mrE"
   },
   "outputs": [],
   "source": [
    "import torch\n",
    "import torch.nn as nn\n",
    "import torch.nn.functional as F\n",
    "import torch.optim as optim\n",
    "import warnings\n",
    "import os\n",
    "import numpy as np\n",
    "import pandas as pd\n",
    "import matplotlib.pyplot as plt\n",
    "import peft\n",
    "\n",
    "warnings.filterwarnings('ignore')\n",
    "\n",
    "from torch.utils.data import DataLoader\n",
    "from transformers import AutoModelForSequenceClassification, AutoTokenizer\n",
    "from tqdm import tqdm\n",
    "from peft import LoraConfig, TaskType, get_peft_model, PeftModel\n",
    "\n",
    "device = torch.device(\"cuda\" if torch.cuda.is_available() else \"cpu\")"
   ]
  },
  {
   "cell_type": "markdown",
   "id": "06af2208-d999-430a-9b5a-ff8124281f90",
   "metadata": {},
   "source": [
    "<hr>"
   ]
  },
  {
   "cell_type": "code",
   "execution_count": 9,
   "id": "45eadc80-0905-46ed-a264-dbe39b02cfd0",
   "metadata": {},
   "outputs": [],
   "source": [
    "pretrained_model = \"tae898/emoberta-large\"\n",
    "\n",
    "model_l0 = AutoModelForSequenceClassification.from_pretrained(pretrained_model)\n",
    "\n",
    "for param in model_l0.parameters():\n",
    "    param.requires_grad = False\n",
    "\n",
    "for param in model_l0.roberta.encoder.layer[-1].parameters():\n",
    "    param.requires_grad = True\n",
    "    \n",
    "for param in model_l0.classifier.parameters():\n",
    "    param.requires_grad = True\n",
    "\n",
    "tokenizer = AutoTokenizer.from_pretrained(pretrained_model)"
   ]
  },
  {
   "cell_type": "markdown",
   "id": "5c5d3420-3312-4999-815a-ef3e1cb949e9",
   "metadata": {},
   "source": [
    "<hr>"
   ]
  },
  {
   "cell_type": "code",
   "execution_count": 10,
   "id": "rflvySe9wf_d",
   "metadata": {
    "id": "rflvySe9wf_d"
   },
   "outputs": [],
   "source": [
    "from torch.utils.data import Dataset, DataLoader\n",
    "from copy import deepcopy\n",
    "\n",
    "class CustomDataset(Dataset):\n",
    "    def __init__(self, json_data, label2id):\n",
    "        self.data = json_data\n",
    "        self.emotions_map = label2id\n",
    "\n",
    "    def __len__(self):\n",
    "        return len(self.data)\n",
    "\n",
    "    def __getitem__(self, idx):\n",
    "\n",
    "        data = deepcopy(self.data[idx])\n",
    "\n",
    "        conversationID = data['conversation_ID']\n",
    "        conversation = data['conversation']\n",
    "        cause_pairs = data['emotion-cause_pairs']\n",
    "\n",
    "        conversationID -= 1\n",
    "\n",
    "        for utt in conversation:\n",
    "            utt[\"utterance_ID\"] -= 1\n",
    "\n",
    "        conversation = sorted(conversation, key=lambda x: x[\"utterance_ID\"])\n",
    "\n",
    "        def extract(x, y):\n",
    "            idx, emotion = x.split(\"_\", maxsplit=1)\n",
    "            idc, subtext = y.split(\"_\", maxsplit=1)\n",
    "\n",
    "            idx = int(idx) - 1\n",
    "            idc = int(idc) - 1\n",
    "\n",
    "            return {\n",
    "                \"cause_pair\": (idx, idc),\n",
    "                \"cause_emotion\": emotion,\n",
    "                \"cause_subtext\": subtext,\n",
    "            }\n",
    "\n",
    "        alcause_pairs = [extract(x, y) for x, y in cause_pairs]\n",
    "        conversations = []\n",
    "\n",
    "        for x in conversation:\n",
    "            row = {\n",
    "                \"conversation_ID\": conversationID,\n",
    "                \"label_\": self.emotions_map[x[\"emotion\"]],\n",
    "                **x,\n",
    "                \"cause\": [c for c in alcause_pairs if c[\"cause_pair\"][0] == x[\"utterance_ID\"]]\n",
    "            }\n",
    "\n",
    "            conversations.append(row)\n",
    "\n",
    "        return conversations\n",
    "\n",
    "dataset = CustomDataset(data, model_l0.config.label2id)"
   ]
  },
  {
   "cell_type": "code",
   "execution_count": 11,
   "id": "amkxhB2CAB0T",
   "metadata": {
    "id": "amkxhB2CAB0T"
   },
   "outputs": [],
   "source": [
    "def collate_fn(batch):\n",
    "\n",
    "    all_texts = []\n",
    "    all_speakers = []\n",
    "    all_attn_target = []\n",
    "    all_labels = []\n",
    "\n",
    "    for samples in batch:\n",
    "        texts = list(map(lambda x: x[\"text\"], samples))\n",
    "        causes = list(map(lambda x: x[\"cause\"], samples))\n",
    "        labels_ = list(map(lambda x: x[\"label_\"], samples))\n",
    "        speakers = list(map(lambda x: x[\"speaker\"], samples))\n",
    "\n",
    "        attn_target = torch.zeros(len(samples), len(samples))\n",
    "\n",
    "        causes = sum(causes, [])\n",
    "        causes = list(map(lambda x: x[\"cause_pair\"], causes))\n",
    "        causes = torch.tensor(causes)\n",
    "        labels = torch.tensor(labels_)\n",
    "\n",
    "        if len(causes) > 0:\n",
    "            attn_target[causes[:, 0], causes[:, 1]] = 1\n",
    "\n",
    "        all_texts.append(texts)\n",
    "        all_speakers.append(speakers)\n",
    "        all_attn_target.append(attn_target)\n",
    "        all_labels.append(labels)\n",
    "\n",
    "    return {\"all_texts\": all_texts,\n",
    "            \"all_speaker\": all_speakers,\n",
    "            \"all_attn_target\": all_attn_target, \"all_labels\": all_labels}"
   ]
  },
  {
   "cell_type": "code",
   "execution_count": 12,
   "id": "f0322f4a-0af5-4eb0-86d8-1dbacab2fa20",
   "metadata": {},
   "outputs": [],
   "source": [
    "from torch.utils.data import random_split\n",
    "\n",
    "train_size = int(0.9 * len(dataset))\n",
    "val_size = len(dataset) - train_size\n",
    "\n",
    "train_dataset, valid_dataset = random_split(dataset, [train_size, val_size])\n",
    "\n",
    "batch_size = 8\n",
    "data_loaders = {\n",
    "    \"train\": DataLoader(train_dataset, batch_size=batch_size, shuffle=True, collate_fn=collate_fn),\n",
    "    \"test\": DataLoader(valid_dataset, batch_size=batch_size, shuffle=False, collate_fn=collate_fn)\n",
    "}"
   ]
  },
  {
   "cell_type": "markdown",
   "id": "f4071a9f-f36e-4487-a94a-236acd4f13f3",
   "metadata": {},
   "source": [
    "<hr>"
   ]
  },
  {
   "cell_type": "code",
   "execution_count": 7,
   "id": "90569fa7-3bb0-4c5c-ba05-d12a5addb85e",
   "metadata": {},
   "outputs": [],
   "source": [
    "labels = torch.tensor(\n",
    "    [row[\"label_\"] for rows in dataset for row in rows]) \n",
    "\n",
    "counts = torch.unique(labels, return_counts=True)[1]\n",
    "\n",
    "cls_weight = counts.sum() / counts\n",
    "cls_weight = (cls_weight / cls_weight.sum()).to(device)"
   ]
  },
  {
   "cell_type": "code",
   "execution_count": 8,
   "id": "229aaaa8-a383-4188-979b-cc3bf20e7d10",
   "metadata": {},
   "outputs": [
    {
     "data": {
      "text/plain": [
       "tensor([0.0218, 0.0562, 0.0703, 0.0801, 0.1127, 0.3123, 0.3466],\n",
       "       device='cuda:0')"
      ]
     },
     "execution_count": 8,
     "metadata": {},
     "output_type": "execute_result"
    }
   ],
   "source": [
    "cls_weight"
   ]
  },
  {
   "cell_type": "markdown",
   "id": "6aaf881c-0c59-47c9-99f7-6293972f05dd",
   "metadata": {},
   "source": [
    "<hr>"
   ]
  },
  {
   "cell_type": "code",
   "execution_count": 23,
   "id": "c5cb79ca-e9d5-4eef-94e0-e0987e7a99f3",
   "metadata": {},
   "outputs": [],
   "source": [
    "import os\n",
    "\n",
    "if not os.path.exists(\"models/\"):\n",
    "    os.makedirs(\"models/\")"
   ]
  },
  {
   "cell_type": "code",
   "execution_count": 44,
   "id": "61f6a879-ed71-4ab3-8ec0-2954f643341d",
   "metadata": {},
   "outputs": [],
   "source": [
    "def train_emotion_classifier(model, tokenizer, data_loaders, num_epochs):\n",
    "    total_reports = []\n",
    "    \n",
    "    optimizer = optim.AdamW(filter(lambda p: p.requires_grad, model_l0.parameters()), lr=1e-6)\n",
    "    \n",
    "    model.to(device)\n",
    "    \n",
    "    for epoch in range(num_epochs):\n",
    "        \n",
    "        for phase in [\"train\", \"test\"]:\n",
    "        \n",
    "            if phase == \"train\":\n",
    "                model.train()\n",
    "            else:\n",
    "                model.eval()\n",
    "        \n",
    "            reports = []\n",
    "\n",
    "            for batch in tqdm(data_loaders[phase]):\n",
    "                \n",
    "                all_texts = sum(batch[\"all_texts\"], [])\n",
    "                all_speaker = sum(batch[\"all_speaker\"], [])\n",
    "                \n",
    "                all_labels = torch.concatenate(batch[\"all_labels\"])\n",
    "                all_labels = all_labels.to(device)\n",
    "                all_labels = all_labels.long()\n",
    "                \n",
    "                texts = [f\"speaker: {s} dialog: {d}\" for s, d in zip(all_speaker, all_texts)]\n",
    "                \n",
    "                inputs = tokenizer(texts, return_tensors='pt', padding=True, truncation=True)\n",
    "                inputs = inputs.to(device)\n",
    "                \n",
    "                input_ids, attention_mask = inputs['input_ids'], inputs['attention_mask']\n",
    "                \n",
    "                output = model(input_ids=input_ids, attention_mask=attention_mask)\n",
    "                    \n",
    "                loss = F.cross_entropy(output.logits, all_labels, weight=cls_weight)\n",
    "                \n",
    "                pred = output.logits.max(dim=1)[1]\n",
    "                \n",
    "                accuracy = (all_labels == pred).sum() / all_labels.size(0)\n",
    "                \n",
    "                if phase == \"train\":\n",
    "                    optimizer.zero_grad()\n",
    "                    loss.backward()\n",
    "                    optimizer.step()\n",
    "                    \n",
    "                report = {\"phase\": phase, \"loss\": loss.item(), \"accuracy\": accuracy.item()}\n",
    "\n",
    "                reports.append(report) \n",
    "              \n",
    "            dc = pd.DataFrame(reports)\n",
    "            dc = dc.describe()\n",
    "            dc = dc.round(3)\n",
    "            total_reports.extend(reports)\n",
    "            \n",
    "            print(F\"{epoch}. using {phase}:\", dc.loc[\"mean\"].to_json())\n",
    "\n",
    "    return model, total_reports "
   ]
  },
  {
   "cell_type": "code",
   "execution_count": null,
   "id": "92f94e32-32cd-487f-9abe-5154c7fa07bc",
   "metadata": {},
   "outputs": [],
   "source": [
    "model, total_reports = train_emotion_classifier(model_l0, tokenizer, data_loaders, num_epochs=3)"
   ]
  },
  {
   "cell_type": "code",
   "execution_count": 34,
   "id": "29e4b5dc-dcef-4efc-9e49-8e236e0cb602",
   "metadata": {},
   "outputs": [
    {
     "data": {
      "image/png": "[encoded data removed]",
      "text/plain": [
       "<Figure size 1200x400 with 2 Axes>"
      ]
     },
     "metadata": {},
     "output_type": "display_data"
    }
   ],
   "source": [
    "df = pd.DataFrame(total_reports).reset_index()\n",
    "df[\"index\"] = df[\"index\"]\n",
    "\n",
    "df = df.groupby(\"index\")\\\n",
    "    .agg(loss=(\"loss\", \"mean\"), accuracy=(\"accuracy\", \"mean\"))\n",
    "\n",
    "df.plot(subplots=True, figsize=(12, 4))\n",
    "plt.tight_layout()\n",
    "plt.show()"
   ]
  },
  {
   "cell_type": "code",
   "execution_count": 35,
   "id": "2b266b0b-59e0-45e8-9b91-dc2301308d6b",
   "metadata": {},
   "outputs": [],
   "source": [
    "torch.save(model.state_dict(), 'models/model_l0_v07.pth')"
   ]
  },
  {
   "cell_type": "markdown",
   "id": "31467d42-7c02-4a90-9d88-d94416774f71",
   "metadata": {},
   "source": [
    "<hr>"
   ]
  },
  {
   "cell_type": "code",
   "execution_count": 127,
   "id": "0abcdbf5-6076-4c87-a891-c386e964b822",
   "metadata": {},
   "outputs": [],
   "source": [
    "model_l0 = AutoModelForSequenceClassification.from_pretrained(\"tae898/emoberta-large\")\n",
    "_ = model_l0.load_state_dict(torch.load(\"models/model_l0_v07.pth\", map_location=\"cpu\"))\n",
    "_ = model_l0.eval()"
   ]
  },
  {
   "cell_type": "code",
   "execution_count": 131,
   "id": "e1bcd7cd-2967-4fe4-b75b-bc03330359b9",
   "metadata": {},
   "outputs": [],
   "source": [
    "import torch\n",
    "import torch.nn as nn\n",
    "\n",
    "class EncoderLayer(nn.Module):\n",
    "    def __init__(self, d_model, n_heads, ff_dim, dropout=0.1):\n",
    "        super(EncoderLayer, self).__init__()\n",
    "        self.self_attn = nn.MultiheadAttention(d_model, n_heads, batch_first=True)\n",
    "        self.feed_forward = nn.Sequential(\n",
    "            nn.Linear(d_model, ff_dim),\n",
    "            nn.ReLU(),\n",
    "            nn.Linear(ff_dim, d_model)\n",
    "        )\n",
    "        self.normalizer = nn.LayerNorm(d_model)\n",
    "        self.dropout = nn.Dropout(dropout)\n",
    "\n",
    "    def forward(self, x, mask):\n",
    "        x = self.normalizer(x)\n",
    "        x = self.feed_forward(x)\n",
    "        x = self.dropout(x)\n",
    "        x, weights = self.self_attn(x, x, x, attn_mask=mask)    \n",
    "        return x, weights\n",
    "\n",
    "class TransformerEncoder(nn.Module):\n",
    "    def __init__(self, embed_dim, logit_dim, model_dim, n_layers, n_heads, ff_dim, max_len, dropout=0.1):\n",
    "        super(TransformerEncoder, self).__init__()\n",
    "  \n",
    "        self.compressor = nn.Linear(embed_dim + logit_dim, model_dim)\n",
    "        self.dropout = nn.Dropout(dropout)\n",
    "        self.positional_encoding = self.get_positional_encoding(max_len, model_dim).permute(1, 0, 2)\n",
    "        self.layers = nn.ModuleList([EncoderLayer(model_dim, n_heads, ff_dim, dropout) for _ in range(n_layers)])\n",
    "        \n",
    "\n",
    "    def get_positional_encoding(self, max_len, d_model):\n",
    "        position = torch.arange(0, max_len, dtype=torch.float32).unsqueeze(1)\n",
    "        div_term = torch.exp(torch.arange(0, d_model, 2, dtype=torch.float32) * -(np.log(10000.0) / d_model))\n",
    "        pos_enc = torch.zeros((max_len, 1, d_model))\n",
    "        pos_enc[:, 0, 0::2] = torch.sin(position * div_term)\n",
    "        pos_enc[:, 0, 1::2] = torch.cos(position * div_term)\n",
    "        return pos_enc\n",
    "\n",
    "    def forward(self, x, y, mask=None):\n",
    "        \n",
    "        x = torch.concatenate((x, y), dim=-1)\n",
    "        x = self.compressor(x)   \n",
    "        x = self.dropout(x)\n",
    "        \n",
    "        x = x + self.positional_encoding[:, :x.shape[1], :].to(x.device)\n",
    "        \n",
    "        for layer in self.layers:\n",
    "            x, weights = layer(x, mask)\n",
    "           \n",
    "        return x, weights\n",
    "    \n",
    "model_l1 = TransformerEncoder(embed_dim=1024, model_dim=256, logit_dim=7, n_layers=1, n_heads=1, ff_dim=1024, max_len=40)"
   ]
  },
  {
   "cell_type": "code",
   "execution_count": 132,
   "id": "6a8411d3-24a8-4e2d-ada1-9aa5aba39521",
   "metadata": {},
   "outputs": [
    {
     "data": {
      "text/plain": [
       "1053440"
      ]
     },
     "execution_count": 132,
     "metadata": {},
     "output_type": "execute_result"
    }
   ],
   "source": [
    "def count_parameters(model):\n",
    "    return sum(p.numel() for p in model.parameters() if p.requires_grad)\n",
    "\n",
    "count_parameters(model_l1)"
   ]
  },
  {
   "cell_type": "code",
   "execution_count": 137,
   "id": "xAzGftLRFzsU",
   "metadata": {
    "colab": {
     "base_uri": "https://localhost:8080/"
    },
    "id": "xAzGftLRFzsU",
    "outputId": "e35c7164-1196-4c0e-cab2-ee23ee0c2348"
   },
   "outputs": [],
   "source": [
    "from torch.optim.lr_scheduler import StepLR\n",
    "\n",
    "def train_cause_pair_extraction(embed_model, model, tokenizer, data_loaders, num_epochs=5):\n",
    "    total_reports = []\n",
    "    \n",
    "    optimizer = optim.AdamW(filter(lambda p: p.requires_grad, model.parameters()), lr=1e-4)    \n",
    "    model.to(device)\n",
    "    embed_model.eval()\n",
    "    embed_model.to(device)\n",
    "    \n",
    "    for epoch in range(num_epochs):\n",
    "        \n",
    "        for phase in [\"train\", \"test\"]:\n",
    "        \n",
    "            if phase == \"train\":\n",
    "                model.train()\n",
    "            else:\n",
    "                model.eval()\n",
    "        \n",
    "            reports = []\n",
    "\n",
    "            for batch in tqdm(data_loaders[phase]):\n",
    "                \n",
    "                total_loss = 0.\n",
    "                \n",
    "                for all_texts, all_speaker, attn_targets, _ in zip(*batch.values()):\n",
    "                    \n",
    "                    attn_targets = attn_targets.to(device)\n",
    "       \n",
    "                    texts = [f\"speaker: {s} dialog: {d}\" for s, d in zip(all_speaker, all_texts)]\n",
    "\n",
    "                    inputs = tokenizer(texts, return_tensors='pt', padding=True, truncation=True)\n",
    "                    inputs = inputs.to(device)\n",
    "\n",
    "                    input_ids, attention_mask = inputs['input_ids'], inputs['attention_mask']\n",
    "\n",
    "                    with torch.no_grad():\n",
    "                        output = embed_model(\n",
    "                            input_ids=input_ids, attention_mask=attention_mask, output_hidden_states=True)\n",
    "                        \n",
    "                        embeds = output.hidden_states[-1][:, 0, :]\n",
    "                        logits = F.softmax(output.logits, dim=-1)\n",
    "                                    \n",
    "                    embeds, logits = embeds.unsqueeze(0), logits.unsqueeze(0)\n",
    "                    \n",
    "                    weights = model(embeds, logits)[1].squeeze(0)\n",
    "                    \n",
    "                    loss = F.mse_loss(weights * 10, attn_targets * 10)\n",
    "                    \n",
    "                    total_loss += loss\n",
    "                    \n",
    "                    delta = torch.abs(attn_targets - weights)\n",
    "                    recall = ((delta < 0.5) * (attn_targets == 1)).sum() / (attn_targets == 1).sum()\n",
    "                    accuracy = (delta < 0.5).sum() / delta.numel()\n",
    "                    \n",
    "                    report = {\"phase\": phase, \"loss\": loss.item(), \"accuracy\": accuracy.item(), \"recall\": recall.item()}\n",
    "\n",
    "                    reports.append(report) \n",
    "                    \n",
    "                if phase == \"train\":\n",
    "                    optimizer.zero_grad()\n",
    "                    total_loss.backward()\n",
    "                    optimizer.step()\n",
    "                                       \n",
    "            dc = pd.DataFrame(reports)\n",
    "            dc = dc.describe()\n",
    "            dc = dc.round(3)\n",
    "                        \n",
    "            total_reports.extend(reports)\n",
    "                        \n",
    "            print(F\"{epoch}.{phase}:\", dc.loc[\"mean\"].to_json())\n",
    "\n",
    "    return model, total_reports"
   ]
  },
  {
   "cell_type": "code",
   "execution_count": 138,
   "id": "f8886b8b-e50a-416a-8f17-5716ff50de3b",
   "metadata": {},
   "outputs": [
    {
     "name": "stderr",
     "output_type": "stream",
     "text": [
      "100%|██████████| 155/155 [01:22<00:00,  1.88it/s]\n"
     ]
    },
    {
     "name": "stdout",
     "output_type": "stream",
     "text": [
      "0.train: {\"loss\":6.127,\"accuracy\":0.934,\"recall\":0.611}\n"
     ]
    },
    {
     "name": "stderr",
     "output_type": "stream",
     "text": [
      "100%|██████████| 18/18 [00:09<00:00,  1.96it/s]\n"
     ]
    },
    {
     "name": "stdout",
     "output_type": "stream",
     "text": [
      "0.test: {\"loss\":9.036,\"accuracy\":0.892,\"recall\":0.388}\n"
     ]
    },
    {
     "name": "stderr",
     "output_type": "stream",
     "text": [
      "100%|██████████| 155/155 [01:22<00:00,  1.88it/s]\n"
     ]
    },
    {
     "name": "stdout",
     "output_type": "stream",
     "text": [
      "1.train: {\"loss\":6.02,\"accuracy\":0.935,\"recall\":0.627}\n"
     ]
    },
    {
     "name": "stderr",
     "output_type": "stream",
     "text": [
      "100%|██████████| 18/18 [00:09<00:00,  1.98it/s]\n"
     ]
    },
    {
     "name": "stdout",
     "output_type": "stream",
     "text": [
      "1.test: {\"loss\":9.188,\"accuracy\":0.89,\"recall\":0.4}\n"
     ]
    },
    {
     "name": "stderr",
     "output_type": "stream",
     "text": [
      "100%|██████████| 155/155 [01:22<00:00,  1.88it/s]\n"
     ]
    },
    {
     "name": "stdout",
     "output_type": "stream",
     "text": [
      "2.train: {\"loss\":5.976,\"accuracy\":0.936,\"recall\":0.634}\n"
     ]
    },
    {
     "name": "stderr",
     "output_type": "stream",
     "text": [
      "100%|██████████| 18/18 [00:09<00:00,  1.98it/s]\n"
     ]
    },
    {
     "name": "stdout",
     "output_type": "stream",
     "text": [
      "2.test: {\"loss\":9.354,\"accuracy\":0.888,\"recall\":0.419}\n"
     ]
    },
    {
     "name": "stderr",
     "output_type": "stream",
     "text": [
      "100%|██████████| 155/155 [01:22<00:00,  1.89it/s]\n"
     ]
    },
    {
     "name": "stdout",
     "output_type": "stream",
     "text": [
      "3.train: {\"loss\":5.95,\"accuracy\":0.936,\"recall\":0.636}\n"
     ]
    },
    {
     "name": "stderr",
     "output_type": "stream",
     "text": [
      "100%|██████████| 18/18 [00:09<00:00,  1.98it/s]\n"
     ]
    },
    {
     "name": "stdout",
     "output_type": "stream",
     "text": [
      "3.test: {\"loss\":9.418,\"accuracy\":0.887,\"recall\":0.41}\n"
     ]
    },
    {
     "name": "stderr",
     "output_type": "stream",
     "text": [
      "100%|██████████| 155/155 [01:22<00:00,  1.89it/s]\n"
     ]
    },
    {
     "name": "stdout",
     "output_type": "stream",
     "text": [
      "4.train: {\"loss\":5.913,\"accuracy\":0.937,\"recall\":0.642}\n"
     ]
    },
    {
     "name": "stderr",
     "output_type": "stream",
     "text": [
      "100%|██████████| 18/18 [00:09<00:00,  1.97it/s]\n"
     ]
    },
    {
     "name": "stdout",
     "output_type": "stream",
     "text": [
      "4.test: {\"loss\":9.221,\"accuracy\":0.888,\"recall\":0.397}\n"
     ]
    },
    {
     "name": "stderr",
     "output_type": "stream",
     "text": [
      "100%|██████████| 155/155 [01:22<00:00,  1.88it/s]\n"
     ]
    },
    {
     "name": "stdout",
     "output_type": "stream",
     "text": [
      "5.train: {\"loss\":5.907,\"accuracy\":0.937,\"recall\":0.643}\n"
     ]
    },
    {
     "name": "stderr",
     "output_type": "stream",
     "text": [
      "100%|██████████| 18/18 [00:09<00:00,  1.96it/s]\n"
     ]
    },
    {
     "name": "stdout",
     "output_type": "stream",
     "text": [
      "5.test: {\"loss\":9.343,\"accuracy\":0.891,\"recall\":0.403}\n"
     ]
    },
    {
     "name": "stderr",
     "output_type": "stream",
     "text": [
      "100%|██████████| 155/155 [01:22<00:00,  1.88it/s]\n"
     ]
    },
    {
     "name": "stdout",
     "output_type": "stream",
     "text": [
      "6.train: {\"loss\":5.884,\"accuracy\":0.937,\"recall\":0.649}\n"
     ]
    },
    {
     "name": "stderr",
     "output_type": "stream",
     "text": [
      "100%|██████████| 18/18 [00:09<00:00,  1.97it/s]\n"
     ]
    },
    {
     "name": "stdout",
     "output_type": "stream",
     "text": [
      "6.test: {\"loss\":9.143,\"accuracy\":0.89,\"recall\":0.386}\n"
     ]
    },
    {
     "name": "stderr",
     "output_type": "stream",
     "text": [
      "100%|██████████| 155/155 [01:22<00:00,  1.89it/s]\n"
     ]
    },
    {
     "name": "stdout",
     "output_type": "stream",
     "text": [
      "7.train: {\"loss\":5.862,\"accuracy\":0.938,\"recall\":0.655}\n"
     ]
    },
    {
     "name": "stderr",
     "output_type": "stream",
     "text": [
      "100%|██████████| 18/18 [00:09<00:00,  1.97it/s]\n"
     ]
    },
    {
     "name": "stdout",
     "output_type": "stream",
     "text": [
      "7.test: {\"loss\":9.087,\"accuracy\":0.89,\"recall\":0.379}\n"
     ]
    },
    {
     "name": "stderr",
     "output_type": "stream",
     "text": [
      "100%|██████████| 155/155 [01:22<00:00,  1.89it/s]\n"
     ]
    },
    {
     "name": "stdout",
     "output_type": "stream",
     "text": [
      "8.train: {\"loss\":5.84,\"accuracy\":0.938,\"recall\":0.652}\n"
     ]
    },
    {
     "name": "stderr",
     "output_type": "stream",
     "text": [
      "100%|██████████| 18/18 [00:09<00:00,  1.97it/s]\n"
     ]
    },
    {
     "name": "stdout",
     "output_type": "stream",
     "text": [
      "8.test: {\"loss\":9.225,\"accuracy\":0.892,\"recall\":0.402}\n"
     ]
    },
    {
     "name": "stderr",
     "output_type": "stream",
     "text": [
      " 50%|████▉     | 77/155 [00:40<00:41,  1.88it/s]\n"
     ]
    }
   ],
   "source": [
    "try:\n",
    "    model, total_reports = train_cause_pair_extraction(model_l0, model, tokenizer, data_loaders, num_epochs=25)\n",
    "except:\n",
    "    pass"
   ]
  },
  {
   "cell_type": "code",
   "execution_count": 140,
   "id": "869f8686-7c0d-49ff-8aee-5e479eabdf88",
   "metadata": {},
   "outputs": [
    {
     "data": {
      "image/png": "[encoded data removed]",
      "text/plain": [
       "<Figure size 1200x400 with 3 Axes>"
      ]
     },
     "metadata": {},
     "output_type": "display_data"
    }
   ],
   "source": [
    "df = pd.DataFrame(total_reports).reset_index()\n",
    "df[\"index\"] = df[\"index\"] // 100\n",
    "\n",
    "df = df.groupby(\"index\")\\\n",
    "    .agg(loss=(\"loss\", \"mean\"), accuracy=(\"accuracy\", \"mean\"), recall=(\"recall\", \"mean\"))\n",
    "\n",
    "df.plot(subplots=True, figsize=(12, 4))\n",
    "plt.tight_layout()\n",
    "plt.show()"
   ]
  },
  {
   "cell_type": "code",
   "execution_count": 141,
   "id": "3de47fa6-79e7-4625-a331-d92bbc2a8b52",
   "metadata": {},
   "outputs": [],
   "source": [
    "torch.save(model.state_dict(), 'models/model_l1_v09.pth')"
   ]
  },
  {
   "cell_type": "markdown",
   "id": "84ff0391-9187-427b-953a-ba997d9f9e17",
   "metadata": {},
   "source": [
    "<hr>"
   ]
  },
  {
   "cell_type": "code",
   "execution_count": 142,
   "id": "dcc46913-f048-4369-8693-2f9c6fec089f",
   "metadata": {},
   "outputs": [],
   "source": [
    "tokenizer = AutoTokenizer.from_pretrained(\"tae898/emoberta-large\")\n",
    "model_l0 = AutoModelForSequenceClassification.from_pretrained(\"tae898/emoberta-large\")\n",
    "\n",
    "model_l0.load_state_dict(torch.load(\"models/model_l0_v07.pth\", map_location=\"cpu\"))\n",
    "model_l0.eval()\n",
    "\n",
    "model_l1.load_state_dict(torch.load(\"models/model_l1_v09.pth\", map_location=\"cpu\"))\n",
    "model_l1.eval()\n",
    "\n",
    "test_dataset = iter(data_loaders[\"test\"])"
   ]
  },
  {
   "cell_type": "code",
   "execution_count": 143,
   "id": "dcbb26d9-95ee-486b-ac00-f2b983042f30",
   "metadata": {},
   "outputs": [],
   "source": [
    "@torch.no_grad\n",
    "def generate_causality_matrix(model_l0, model_l1, tokenizer, all_texts, all_speaker):\n",
    "    \n",
    "    model_l0.to(\"cpu\")\n",
    "    model_l1.to(\"cpu\")\n",
    "    \n",
    "    texts = [f\"speaker: {s} dialog: {d}\" for s, d in zip(all_speaker, all_texts)]\n",
    "\n",
    "    inputs = tokenizer(texts, return_tensors='pt', padding=True, truncation=True)\n",
    "\n",
    "    input_ids, attention_mask = inputs['input_ids'], inputs['attention_mask']\n",
    "\n",
    "    with torch.no_grad():\n",
    "        output = model_l0(\n",
    "            input_ids=input_ids, attention_mask=attention_mask, output_hidden_states=True)\n",
    "\n",
    "        embeds = output.hidden_states[-1][:, 0, :]\n",
    "        logits = F.softmax(output.logits, dim=-1)\n",
    "\n",
    "    embeds, logits = embeds.unsqueeze(0), logits.unsqueeze(0)\n",
    "    \n",
    "    weights = model_l1(embeds, logits)[1].squeeze(0)\n",
    "    \n",
    "    return torch.round(weights, decimals=2)"
   ]
  },
  {
   "cell_type": "code",
   "execution_count": 147,
   "id": "046acf99-fe94-48f9-8d6a-fc57cbbcf0f1",
   "metadata": {},
   "outputs": [
    {
     "name": "stdout",
     "output_type": "stream",
     "text": [
      "predicted: \n",
      "tensor([[0, 0, 0, 0, 0, 0, 0, 0, 0, 0],\n",
      "        [0, 1, 0, 0, 0, 0, 0, 0, 0, 0],\n",
      "        [0, 0, 0, 0, 0, 0, 0, 0, 0, 0],\n",
      "        [0, 0, 0, 0, 0, 0, 0, 0, 0, 0],\n",
      "        [0, 0, 0, 0, 0, 0, 0, 0, 0, 0],\n",
      "        [0, 0, 0, 0, 0, 0, 0, 0, 0, 0],\n",
      "        [0, 0, 0, 0, 0, 0, 1, 0, 0, 0],\n",
      "        [0, 0, 0, 0, 0, 0, 0, 0, 0, 0],\n",
      "        [0, 0, 0, 0, 0, 0, 0, 0, 1, 0],\n",
      "        [0, 0, 0, 0, 0, 0, 0, 0, 0, 1]])\n",
      "delta: \n",
      "tensor([[1, 0, 0, 0, 0, 0, 0, 0, 0, 0],\n",
      "        [1, 1, 0, 0, 0, 0, 0, 0, 0, 0],\n",
      "        [0, 0, 0, 0, 0, 0, 0, 0, 0, 0],\n",
      "        [0, 0, 0, 0, 1, 0, 0, 0, 0, 0],\n",
      "        [0, 0, 0, 0, 1, 0, 0, 0, 0, 0],\n",
      "        [0, 0, 0, 0, 0, 0, 1, 0, 0, 0],\n",
      "        [0, 0, 0, 0, 0, 0, 1, 0, 0, 0],\n",
      "        [0, 0, 0, 0, 0, 0, 0, 0, 1, 0],\n",
      "        [0, 0, 0, 0, 0, 0, 0, 0, 1, 0],\n",
      "        [0, 0, 0, 0, 0, 0, 0, 0, 0, 1]])\n"
     ]
    }
   ],
   "source": [
    "sample = next(test_dataset)\n",
    "\n",
    "all_texts = sample[\"all_texts\"][0]\n",
    "all_speaker = sample[\"all_speaker\"][0]\n",
    "\n",
    "causalattn = generate_causality_matrix(model_l0, model_l1, tokenizer, all_texts, all_speaker)\n",
    "\n",
    "print(\"predicted: \" , (causalattn > 0.5).long(), sep=\"\\n\")\n",
    "print(\"delta: \", sample[\"all_attn_target\"][0].long(), sep=\"\\n\")"
   ]
  },
  {
   "cell_type": "markdown",
   "id": "c8f52a5f-4f1c-4768-bd0d-46abfbdf8f4d",
   "metadata": {},
   "source": [
    "<hr>"
   ]
  },
  {
   "cell_type": "code",
   "execution_count": 9,
   "id": "4cf4ccdf-fb3a-462c-b843-4be8fe9eb9ab",
   "metadata": {},
   "outputs": [],
   "source": [
    "from transformers import AutoModelForQuestionAnswering, AutoTokenizer\n",
    "\n",
    "model_name = \"deepset/deberta-v3-base-squad2\"\n",
    "tokenizer = AutoTokenizer.from_pretrained(model_name)\n",
    "qa_model = AutoModelForQuestionAnswering.from_pretrained(model_name)"
   ]
  },
  {
   "cell_type": "code",
   "execution_count": 10,
   "id": "213b3e37-9445-4293-a635-d7138e0d07b3",
   "metadata": {},
   "outputs": [
    {
     "name": "stdout",
     "output_type": "stream",
     "text": [
      "trainable params: 296,450 || all params: 184,129,540 || trainable%: 0.16100078238396728\n"
     ]
    }
   ],
   "source": [
    "peft_config = LoraConfig(\n",
    "    task_type=TaskType.QUESTION_ANS, inference_mode=False, r=8, lora_alpha=32, lora_dropout=0.1)\n",
    "\n",
    "qa_model = get_peft_model(qa_model, peft_config)\n",
    "\n",
    "qa_model.print_trainable_parameters()"
   ]
  },
  {
   "cell_type": "code",
   "execution_count": 13,
   "id": "5e4d6eeb-8cc8-4838-a7b6-94479c3cbd5d",
   "metadata": {},
   "outputs": [],
   "source": [
    "def qa_preparation(examples):\n",
    "    \n",
    "    samples = []\n",
    "    prompt = \"Which part of the text ’{}’ is the reason for ’ {} ’'s feeling of ’ {} ’ when ’ {} ’ is said?\"\n",
    "\n",
    "    for exp in examples:\n",
    "        for ut in exp:\n",
    "            for c in ut[\"cause\"]:\n",
    "                \n",
    "                src = c[\"cause_pair\"][0] \n",
    "                tgt = c[\"cause_pair\"][1]\n",
    "                \n",
    "                x = {\n",
    "                    \"question\": prompt.format(exp[tgt][\"text\"], ut[\"speaker\"], c[\"cause_emotion\"], exp[src][\"text\"]),\n",
    "                    \"context\": exp[tgt][\"text\"],\n",
    "                    'answers': {\n",
    "                        'text': [c[\"cause_subtext\"]], \n",
    "                        'answer_start': [exp[tgt][\"text\"].find(c[\"cause_subtext\"])]\n",
    "                    }\n",
    "                }\n",
    "                samples.append(x)\n",
    "                \n",
    "    return samples"
   ]
  },
  {
   "cell_type": "code",
   "execution_count": 14,
   "id": "79d8abe7-cdd1-4ff0-a1bf-279d653f573a",
   "metadata": {},
   "outputs": [],
   "source": [
    "train_dataset_qa = qa_preparation(train_dataset)\n",
    "valid_dataset_qa = qa_preparation(valid_dataset)"
   ]
  },
  {
   "cell_type": "code",
   "execution_count": 15,
   "id": "942209d1-4413-4a68-9810-89a7d2214752",
   "metadata": {},
   "outputs": [],
   "source": [
    "from datasets import Dataset, DatasetDict\n",
    "\n",
    "dataset_qa = DatasetDict({\n",
    "    \"train\": Dataset.from_list(train_dataset_qa[:]),\n",
    "    \"test\": Dataset.from_list(valid_dataset_qa[:]),\n",
    "})"
   ]
  },
  {
   "cell_type": "code",
   "execution_count": 16,
   "id": "8db0cd59-918c-4b58-91fd-393e64be0d82",
   "metadata": {},
   "outputs": [
    {
     "data": {
      "text/plain": [
       "DatasetDict({\n",
       "    train: Dataset({\n",
       "        features: ['question', 'context', 'answers'],\n",
       "        num_rows: 8398\n",
       "    })\n",
       "    test: Dataset({\n",
       "        features: ['question', 'context', 'answers'],\n",
       "        num_rows: 966\n",
       "    })\n",
       "})"
      ]
     },
     "execution_count": 16,
     "metadata": {},
     "output_type": "execute_result"
    }
   ],
   "source": [
    "dataset_qa"
   ]
  },
  {
   "cell_type": "code",
   "execution_count": 17,
   "id": "ccb7f65d-9f74-4d4d-ba1a-6cbc5cd6d4d5",
   "metadata": {},
   "outputs": [
    {
     "data": {
      "application/vnd.jupyter.widget-view+json": {
       "model_id": "166b6a2ddcd749eb87dfd8f0422517e1",
       "version_major": 2,
       "version_minor": 0
      },
      "text/plain": [
       "Map:   0%|          | 0/8398 [00:00<?, ? examples/s]"
      ]
     },
     "metadata": {},
     "output_type": "display_data"
    },
    {
     "data": {
      "application/vnd.jupyter.widget-view+json": {
       "model_id": "abae8531844743999c574051d69f8b87",
       "version_major": 2,
       "version_minor": 0
      },
      "text/plain": [
       "Map:   0%|          | 0/966 [00:00<?, ? examples/s]"
      ]
     },
     "metadata": {},
     "output_type": "display_data"
    }
   ],
   "source": [
    "def preprocess_function(examples):\n",
    "    questions = [q.strip() for q in examples[\"question\"]]\n",
    "    \n",
    "    inputs = tokenizer(questions, examples[\"context\"], return_offsets_mapping=True, padding=\"max_length\", truncation=True)\n",
    "\n",
    "    offset_mapping = inputs.pop(\"offset_mapping\")\n",
    "    answers = examples[\"answers\"]\n",
    "    start_positions = []\n",
    "    end_positions = []\n",
    "\n",
    "    for i, offset in enumerate(offset_mapping):\n",
    "        answer = answers[i]\n",
    "        start_char = answer[\"answer_start\"][0]\n",
    "        end_char = answer[\"answer_start\"][0] + len(answer[\"text\"][0])\n",
    "        sequence_ids = inputs.sequence_ids(i)\n",
    "\n",
    "        idx = 0\n",
    "        while sequence_ids[idx] != 1:\n",
    "            idx += 1\n",
    "        context_start = idx\n",
    "        while sequence_ids[idx] == 1:\n",
    "            idx += 1\n",
    "        context_end = idx - 1\n",
    "\n",
    "        if offset[context_start][0] > end_char or offset[context_end][1] < start_char:\n",
    "            start_positions.append(0)\n",
    "            end_positions.append(0)\n",
    "        else:\n",
    "            idx = context_start\n",
    "            while idx <= context_end and offset[idx][0] <= start_char:\n",
    "                idx += 1\n",
    "            start_positions.append(idx - 1)\n",
    "\n",
    "            idx = context_end\n",
    "            while idx >= context_start and offset[idx][1] >= end_char:\n",
    "                idx -= 1\n",
    "            end_positions.append(idx + 1)\n",
    "\n",
    "    inputs[\"start_positions\"], inputs[\"end_positions\"] = start_positions, end_positions\n",
    "\n",
    "    return inputs\n",
    "\n",
    "tokenized_qa = dataset_qa.map(preprocess_function, batched=True, remove_columns=dataset_qa[\"train\"].column_names)"
   ]
  },
  {
   "cell_type": "code",
   "execution_count": 16,
   "id": "73d7f7cf-fc88-4245-b445-542ac00372da",
   "metadata": {},
   "outputs": [
    {
     "name": "stderr",
     "output_type": "stream",
     "text": [
      "2024-01-30 20:54:17.757264: I tensorflow/core/util/port.cc:113] oneDNN custom operations are on. You may see slightly different numerical results due to floating-point round-off errors from different computation orders. To turn them off, set the environment variable `TF_ENABLE_ONEDNN_OPTS=0`.\n",
      "2024-01-30 20:54:17.794244: E external/local_xla/xla/stream_executor/cuda/cuda_dnn.cc:9261] Unable to register cuDNN factory: Attempting to register factory for plugin cuDNN when one has already been registered\n",
      "2024-01-30 20:54:17.794264: E external/local_xla/xla/stream_executor/cuda/cuda_fft.cc:607] Unable to register cuFFT factory: Attempting to register factory for plugin cuFFT when one has already been registered\n",
      "2024-01-30 20:54:17.795350: E external/local_xla/xla/stream_executor/cuda/cuda_blas.cc:1515] Unable to register cuBLAS factory: Attempting to register factory for plugin cuBLAS when one has already been registered\n",
      "2024-01-30 20:54:17.802163: I tensorflow/core/platform/cpu_feature_guard.cc:182] This TensorFlow binary is optimized to use available CPU instructions in performance-critical operations.\n",
      "To enable the following instructions: AVX2 AVX512F AVX512_VNNI FMA, in other operations, rebuild TensorFlow with the appropriate compiler flags.\n",
      "2024-01-30 20:54:19.174109: W tensorflow/compiler/tf2tensorrt/utils/py_utils.cc:38] TF-TRT Warning: Could not find TensorRT\n"
     ]
    }
   ],
   "source": [
    "from transformers import DefaultDataCollator\n",
    "\n",
    "data_collator = DefaultDataCollator()"
   ]
  },
  {
   "cell_type": "code",
   "execution_count": 17,
   "id": "b54f87fc-3159-4b28-b53f-5bf95bdab0ea",
   "metadata": {},
   "outputs": [
    {
     "name": "stderr",
     "output_type": "stream",
     "text": [
      "Detected kernel version 5.4.0, which is below the recommended minimum of 5.5.0; this can cause the process to hang. It is recommended to upgrade the kernel to the minimum version or higher.\n"
     ]
    }
   ],
   "source": [
    "from transformers import TrainingArguments, Trainer\n",
    "\n",
    "training_args = TrainingArguments(\n",
    "    output_dir=\"models/qa\",\n",
    "    evaluation_strategy=\"epoch\",\n",
    "    learning_rate=2e-5,\n",
    "    per_device_train_batch_size=16,\n",
    "    per_device_eval_batch_size=16,\n",
    "    num_train_epochs=20,\n",
    "    weight_decay=0.01,\n",
    ")\n",
    "\n",
    "trainer = Trainer(\n",
    "    model=qa_model, args=training_args,\n",
    "    train_dataset=tokenized_qa[\"train\"], eval_dataset=tokenized_qa[\"test\"],\n",
    "    tokenizer=tokenizer, data_collator=data_collator,\n",
    ")"
   ]
  },
  {
   "cell_type": "code",
   "execution_count": null,
   "id": "cf928efc-a586-431b-8ee0-7c8c5e48312c",
   "metadata": {},
   "outputs": [
    {
     "data": {
      "text/html": [
       "\n",
       "    <div>\n",
       "      \n",
       "      <progress value='195' max='10620' style='width:300px; height:20px; vertical-align: middle;'></progress>\n",
       "      [  195/10620 04:05 < 3:40:38, 0.79 it/s, Epoch 0.37/20]\n",
       "    </div>\n",
       "    <table border=\"1\" class=\"dataframe\">\n",
       "  <thead>\n",
       " <tr style=\"text-align: left;\">\n",
       "      <th>Epoch</th>\n",
       "      <th>Training Loss</th>\n",
       "      <th>Validation Loss</th>\n",
       "    </tr>\n",
       "  </thead>\n",
       "  <tbody>\n",
       "  </tbody>\n",
       "</table><p>"
      ],
      "text/plain": [
       "<IPython.core.display.HTML object>"
      ]
     },
     "metadata": {},
     "output_type": "display_data"
    }
   ],
   "source": [
    "trainer.train()"
   ]
  },
  {
   "cell_type": "markdown",
   "id": "e067f6f2-cdbc-4ac0-b796-6c58b08e2c78",
   "metadata": {},
   "source": [
    "<hr>"
   ]
  },
  {
   "cell_type": "code",
   "execution_count": 7,
   "id": "1319b630-b932-421c-bb85-3acb1bac5a5f",
   "metadata": {},
   "outputs": [],
   "source": [
    "from transformers import AutoModelForQuestionAnswering, AutoTokenizer\n",
    "\n",
    "checkpoint = \"models/qa/checkpoint-10500\"\n",
    "model_name = \"deepset/deberta-v3-base-squad2\"\n",
    "\n",
    "qa_model = AutoModelForQuestionAnswering.from_pretrained(model_name)\n",
    "qa_model = PeftModel.from_pretrained(qa_model, checkpoint)\n",
    "tokenizer = AutoTokenizer.from_pretrained(checkpoint)"
   ]
  },
  {
   "cell_type": "code",
   "execution_count": 18,
   "id": "39c04a53-040e-4212-b32b-43db277fd68b",
   "metadata": {},
   "outputs": [],
   "source": [
    "inputs = tokenizer(\n",
    "    dataset_qa[\"test\"][\"question\"], \n",
    "    dataset_qa[\"test\"][\"context\"], \n",
    "    padding=True, truncation=True, return_tensors=\"pt\")"
   ]
  },
  {
   "cell_type": "code",
   "execution_count": 19,
   "id": "b979a242-ff0e-4b95-a184-c74ef1688946",
   "metadata": {},
   "outputs": [
    {
     "data": {
      "text/plain": [
       "torch.Size([966, 184])"
      ]
     },
     "execution_count": 19,
     "metadata": {},
     "output_type": "execute_result"
    }
   ],
   "source": [
    "inputs[\"input_ids\"].shape"
   ]
  },
  {
   "cell_type": "code",
   "execution_count": 20,
   "id": "68541a61-1749-40df-835c-f09ffaece6b1",
   "metadata": {},
   "outputs": [],
   "source": [
    "with torch.no_grad():\n",
    "    outputs = qa_model(**inputs)"
   ]
  },
  {
   "cell_type": "code",
   "execution_count": 21,
   "id": "0c600406-389e-4bbd-aa94-e053f1aaf5d1",
   "metadata": {},
   "outputs": [],
   "source": [
    "answer_start_index, answer_end_index = \\\n",
    "    outputs.start_logits.argmax(dim=-1).tolist(), outputs.end_logits.argmax(dim=-1).tolist()"
   ]
  },
  {
   "cell_type": "code",
   "execution_count": 22,
   "id": "1ae5022f-f709-4c1e-8f2d-ac8e1a202958",
   "metadata": {},
   "outputs": [],
   "source": [
    "answers = []\n",
    "\n",
    "for i, (start, end) in enumerate(zip(answer_start_index, answer_end_index)):\n",
    "    answer = tokenizer.decode(inputs.input_ids[i, start : end + 1])\n",
    "    answers.append(answer)"
   ]
  },
  {
   "cell_type": "code",
   "execution_count": 23,
   "id": "bdca9f02-7926-4c05-85aa-6b10e8af7ae3",
   "metadata": {},
   "outputs": [],
   "source": [
    "ground_truth = dataset_qa[\"test\"][\"answers\"]\n",
    "context = dataset_qa[\"test\"][\"context\"]\n",
    "\n",
    "report = [\n",
    "    {\"context\": cnx, \"prediction\": ans, \"ground_truth\": d2[\"text\"][0]}\n",
    "    for cnx, ans, d2 in zip(context, answers, ground_truth)\n",
    "]"
   ]
  },
  {
   "cell_type": "code",
   "execution_count": 24,
   "id": "02164471-03fc-429a-9e68-a63fa1657182",
   "metadata": {},
   "outputs": [
    {
     "data": {
      "text/plain": [
       "{'context': 'Hi ! Hi , I am Ross , you do not know me , but I am a big , big fan of yours . I mean ,',\n",
       " 'prediction': 'I am a big, big fan of yours.',\n",
       " 'ground_truth': 'Hi ! Hi , I am Ross , you do not know me , but I am a big , big fan of yours .'}"
      ]
     },
     "execution_count": 24,
     "metadata": {},
     "output_type": "execute_result"
    }
   ],
   "source": [
    "report[0]"
   ]
  },
  {
   "cell_type": "code",
   "execution_count": 25,
   "id": "8a026a0b-136f-45e1-820b-0be400f32ba8",
   "metadata": {},
   "outputs": [
    {
     "data": {
      "text/plain": [
       "{'context': 'Do not , do not just dismiss this so fast .',\n",
       " 'prediction': 'dismiss this so fast.',\n",
       " 'ground_truth': 'do not just dismiss this so fast .'}"
      ]
     },
     "execution_count": 25,
     "metadata": {},
     "output_type": "execute_result"
    }
   ],
   "source": [
    "report[1]"
   ]
  },
  {
   "cell_type": "code",
   "execution_count": 26,
   "id": "6908a849-6917-454e-800c-a84bf1e8cb1f",
   "metadata": {},
   "outputs": [
    {
     "data": {
      "text/plain": [
       "{'context': 'I am not on the list !',\n",
       " 'prediction': 'I am not on the list!',\n",
       " 'ground_truth': 'I am not on the list !'}"
      ]
     },
     "execution_count": 26,
     "metadata": {},
     "output_type": "execute_result"
    }
   ],
   "source": [
    "report[2]"
   ]
  },
  {
   "cell_type": "code",
   "execution_count": 27,
   "id": "e63804ec-24b1-45e9-afb7-4e49d3e52878",
   "metadata": {},
   "outputs": [
    {
     "data": {
      "text/plain": [
       "{'context': 'I am not on the list !',\n",
       " 'prediction': 'I am not on the list!',\n",
       " 'ground_truth': 'I am not on the list !'}"
      ]
     },
     "execution_count": 27,
     "metadata": {},
     "output_type": "execute_result"
    }
   ],
   "source": [
    "report[3]"
   ]
  },
  {
   "cell_type": "code",
   "execution_count": 28,
   "id": "b6104bdd-a6c5-419a-9c1b-21a6b5b80ee9",
   "metadata": {},
   "outputs": [
    {
     "data": {
      "text/plain": [
       "{'context': 'Um , see , but that is not the final draft .',\n",
       " 'prediction': 'that is not the final draft.',\n",
       " 'ground_truth': 'that is not the final draft .'}"
      ]
     },
     "execution_count": 28,
     "metadata": {},
     "output_type": "execute_result"
    }
   ],
   "source": [
    "report[4]"
   ]
  },
  {
   "cell_type": "code",
   "execution_count": 29,
   "id": "5604dd8e-cc66-4bf8-a541-18f0a015d538",
   "metadata": {},
   "outputs": [
    {
     "data": {
      "text/plain": [
       "{'context': 'It is laminated !',\n",
       " 'prediction': 'It is laminated!',\n",
       " 'ground_truth': 'It is laminated !'}"
      ]
     },
     "execution_count": 29,
     "metadata": {},
     "output_type": "execute_result"
    }
   ],
   "source": [
    "report[5]"
   ]
  },
  {
   "cell_type": "markdown",
   "id": "5ae1aaa0-a9b7-418e-ae61-7c8f70ef7982",
   "metadata": {},
   "source": [
    "<hr>"
   ]
  },
  {
   "cell_type": "code",
   "execution_count": null,
   "id": "0af071eb-c30b-47a9-ba36-85b9acd8a3ea",
   "metadata": {},
   "outputs": [],
   "source": []
  }
 ],
 "metadata": {
  "accelerator": "GPU",
  "colab": {
   "gpuType": "T4",
   "provenance": []
  },
  "kernelspec": {
   "display_name": "Python 3 (ipykernel)",
   "language": "python",
   "name": "python3"
  },
  "language_info": {
   "codemirror_mode": {
    "name": "ipython",
    "version": 3
   },
   "file_extension": ".py",
   "mimetype": "text/x-python",
   "name": "python",
   "nbconvert_exporter": "python",
   "pygments_lexer": "ipython3",
   "version": "3.10.6"
  }
 },
 "nbformat": 4,
 "nbformat_minor": 5
}
